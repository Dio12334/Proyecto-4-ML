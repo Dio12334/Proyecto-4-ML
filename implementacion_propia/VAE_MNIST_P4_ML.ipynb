{
  "cells": [
    {
      "cell_type": "code",
      "execution_count": null,
      "metadata": {
        "colab": {
          "base_uri": "https://localhost:8080/"
        },
        "id": "MSVyIwjNcVRw",
        "outputId": "626d29ea-18a5-461a-9483-1abccf8ec82b"
      },
      "outputs": [
        {
          "output_type": "stream",
          "name": "stdout",
          "text": [
            "Mounted at /content/drive\n"
          ]
        }
      ],
      "source": [
        "from google.colab import drive\n",
        "drive.mount('/content/drive')"
      ]
    },
    {
      "cell_type": "code",
      "execution_count": null,
      "metadata": {
        "colab": {
          "base_uri": "https://localhost:8080/"
        },
        "id": "i9B0u6d_Iq0d",
        "outputId": "ef7b675b-7164-4d66-fe3e-225880a0498b"
      },
      "outputs": [
        {
          "output_type": "stream",
          "name": "stdout",
          "text": [
            "Downloading http://yann.lecun.com/exdb/mnist/train-images-idx3-ubyte.gz\n",
            "Downloading http://yann.lecun.com/exdb/mnist/train-images-idx3-ubyte.gz to ./dataset/MNIST/raw/train-images-idx3-ubyte.gz\n"
          ]
        },
        {
          "output_type": "stream",
          "name": "stderr",
          "text": [
            "100%|██████████| 9912422/9912422 [00:00<00:00, 144943405.04it/s]"
          ]
        },
        {
          "output_type": "stream",
          "name": "stdout",
          "text": [
            "Extracting ./dataset/MNIST/raw/train-images-idx3-ubyte.gz to ./dataset/MNIST/raw\n"
          ]
        },
        {
          "output_type": "stream",
          "name": "stderr",
          "text": [
            "\n"
          ]
        },
        {
          "output_type": "stream",
          "name": "stdout",
          "text": [
            "\n",
            "Downloading http://yann.lecun.com/exdb/mnist/train-labels-idx1-ubyte.gz\n",
            "Downloading http://yann.lecun.com/exdb/mnist/train-labels-idx1-ubyte.gz to ./dataset/MNIST/raw/train-labels-idx1-ubyte.gz\n"
          ]
        },
        {
          "output_type": "stream",
          "name": "stderr",
          "text": [
            "100%|██████████| 28881/28881 [00:00<00:00, 38813102.80it/s]\n"
          ]
        },
        {
          "output_type": "stream",
          "name": "stdout",
          "text": [
            "Extracting ./dataset/MNIST/raw/train-labels-idx1-ubyte.gz to ./dataset/MNIST/raw\n",
            "\n",
            "Downloading http://yann.lecun.com/exdb/mnist/t10k-images-idx3-ubyte.gz\n",
            "Downloading http://yann.lecun.com/exdb/mnist/t10k-images-idx3-ubyte.gz to ./dataset/MNIST/raw/t10k-images-idx3-ubyte.gz\n"
          ]
        },
        {
          "output_type": "stream",
          "name": "stderr",
          "text": [
            "100%|██████████| 1648877/1648877 [00:00<00:00, 34562521.35it/s]\n"
          ]
        },
        {
          "output_type": "stream",
          "name": "stdout",
          "text": [
            "Extracting ./dataset/MNIST/raw/t10k-images-idx3-ubyte.gz to ./dataset/MNIST/raw\n",
            "\n",
            "Downloading http://yann.lecun.com/exdb/mnist/t10k-labels-idx1-ubyte.gz\n",
            "Downloading http://yann.lecun.com/exdb/mnist/t10k-labels-idx1-ubyte.gz to ./dataset/MNIST/raw/t10k-labels-idx1-ubyte.gz\n"
          ]
        },
        {
          "output_type": "stream",
          "name": "stderr",
          "text": [
            "100%|██████████| 4542/4542 [00:00<00:00, 17820887.53it/s]\n"
          ]
        },
        {
          "output_type": "stream",
          "name": "stdout",
          "text": [
            "Extracting ./dataset/MNIST/raw/t10k-labels-idx1-ubyte.gz to ./dataset/MNIST/raw\n",
            "\n"
          ]
        }
      ],
      "source": [
        "import torch\n",
        "import torchvision\n",
        "import torchvision.transforms as transforms\n",
        "import numpy as np\n",
        "import torch.nn as nn\n",
        "import torch.nn.functional as F\n",
        "from torchsummary import summary\n",
        "\n",
        "\n",
        "batch_size = 128\n",
        "\n",
        "train_dataset = torchvision.datasets.MNIST(root = './dataset', train= True, transform=transforms.Compose([transforms.Resize((32, 32)),transforms.ToTensor()]), download=True)\n",
        "\n",
        "test_dataset = torchvision.datasets.MNIST(root = './dataset', train= False, transform=transforms.Compose([transforms.Resize((32, 32)),transforms.ToTensor()]), download=True)\n",
        "\n",
        "train_loader = torch.utils.data.DataLoader(dataset=train_dataset, batch_size = batch_size, shuffle = True)\n",
        "\n",
        "test_loader = torch.utils.data.DataLoader(dataset=test_dataset, batch_size = batch_size,shuffle = True)\n",
        "\n",
        "\n"
      ]
    },
    {
      "cell_type": "code",
      "execution_count": null,
      "metadata": {
        "id": "Rk2vSHAyIu0j"
      },
      "outputs": [],
      "source": [
        "latent_dim = 200\n",
        "class Encoder(nn.Module):\n",
        "    def __init__(self):\n",
        "        super(Encoder, self).__init__()\n",
        "\n",
        "        self.layer1 = nn.Conv2d(1, 8, kernel_size=(5, 5), padding='same')#, stride=(2, 2))\n",
        "        self.layer2 = nn.Conv2d(8, 16, kernel_size=(5, 5), padding='same')\n",
        "        self.layer3 = nn.Conv2d(16, 32, kernel_size=(5, 5), padding='same')#, stride=(2, 2))\n",
        "        self.layer4 = nn.Conv2d(32, 64, kernel_size=(5, 5), padding='same')\n",
        "        self.layer5 = nn.Conv2d(64, 64, kernel_size=(5, 5), padding='same')#, stride=(2, 2))\n",
        "\n",
        "        self.z_mean = nn.Linear(64 * 32 * 32, latent_dim)\n",
        "        self.z_log_var = nn.Linear(64 * 32 * 32, latent_dim)\n",
        "\n",
        "    def forward(self, x):\n",
        "        x = F.relu(self.layer1(x))\n",
        "        x = F.relu(self.layer2(x))\n",
        "        x = F.relu(self.layer3(x))\n",
        "        x = F.relu(self.layer4(x))\n",
        "        x = F.relu(self.layer5(x))\n",
        "        x = x.view(x.size(0), -1)\n",
        "        x_mu = self.z_mean(x)\n",
        "        x_log_var = self.z_log_var(x)\n",
        "        return x_mu, x_log_var\n",
        "\n",
        "class Decoder(nn.Module):\n",
        "    def __init__(self):\n",
        "        super(Decoder, self).__init__()\n",
        "\n",
        "        self.dense = nn.Linear(latent_dim, 64 * 32 * 32)\n",
        "        self.layer1 = nn.ConvTranspose2d(64, 64, kernel_size=(1))\n",
        "        self.layer2 = nn.ConvTranspose2d(64, 32, kernel_size=(1))\n",
        "        self.layer3 = nn.ConvTranspose2d(32, 16, kernel_size=(1))\n",
        "        self.layer4 = nn.ConvTranspose2d(16, 8, kernel_size=(1))\n",
        "        self.layer5 = nn.ConvTranspose2d(8, 1, kernel_size=(1))\n",
        "\n",
        "    def forward(self, x):\n",
        "        x = self.dense(x)\n",
        "        x = x.view(x.size(0), 64, 32, 32)\n",
        "        x = F.relu(self.layer1(x))\n",
        "        x = F.relu(self.layer2(x))\n",
        "        x = F.relu(self.layer3(x))\n",
        "        x = F.relu(self.layer4(x))\n",
        "        x = F.relu(self.layer5(x))\n",
        "        return x\n",
        "\n",
        "class VAE(nn.Module):\n",
        "    def __init__(self):\n",
        "        super(VAE, self).__init__()\n",
        "        self.encoder = Encoder()\n",
        "        self.decoder = Decoder()\n",
        "\n",
        "    def forward(self, image):\n",
        "        latent_mu, latent_log_var = self.encoder(image)\n",
        "        latent = self.latent_sample(latent_mu, latent_log_var)\n",
        "        x = self.decoder(latent)\n",
        "        return x, latent_mu, latent_log_var\n",
        "\n",
        "    def latent_sample(self, mu, log_var):\n",
        "        if self.training:\n",
        "            std = log_var.mul(0.5).exp_()\n",
        "            eps = torch.empty_like(std).normal_()\n",
        "            return eps.mul(std).add(mu)\n",
        "        else:\n",
        "            return mu\n",
        "\n",
        "\n",
        "def vae_loss(recon_x, x, mu, log_var):\n",
        "    reconstruction_loss = F.mse_loss(recon_x.view(-1, 1024), x.view(-1, 1024), reduction='sum')\n",
        "    #reconstruction_loss = F.binary_cross_entropy(recon_x.view(-1, 1024), x.view(-1, 1024), reduction='sum')\n",
        "    kl = -0.5 * torch.sum(1 + log_var - mu.pow(2) - log_var.exp())\n",
        "    return reconstruction_loss + kl\n"
      ]
    },
    {
      "cell_type": "code",
      "execution_count": null,
      "metadata": {
        "colab": {
          "base_uri": "https://localhost:8080/"
        },
        "id": "m5chS-HOI8N2",
        "outputId": "683a5777-8a27-405e-f254-71fd2604672e"
      },
      "outputs": [
        {
          "output_type": "stream",
          "name": "stdout",
          "text": [
            "Epoch [1/50], Step [100/469], Loss: 7513.2295\n",
            "Epoch [1/50], Step [200/469], Loss: 6227.8120\n",
            "Epoch [1/50], Step [300/469], Loss: 5665.9331\n",
            "Epoch [1/50], Step [400/469], Loss: 5773.9663\n",
            "Epoch [2/50], Step [100/469], Loss: 5016.7959\n",
            "Epoch [2/50], Step [200/469], Loss: 4982.6235\n",
            "Epoch [2/50], Step [300/469], Loss: 5049.9497\n",
            "Epoch [2/50], Step [400/469], Loss: 5098.4824\n",
            "Epoch [3/50], Step [100/469], Loss: 4817.0791\n",
            "Epoch [3/50], Step [200/469], Loss: 4636.5557\n",
            "Epoch [3/50], Step [300/469], Loss: 4652.8613\n",
            "Epoch [3/50], Step [400/469], Loss: 4635.1289\n",
            "Epoch [4/50], Step [100/469], Loss: 4490.4824\n",
            "Epoch [4/50], Step [200/469], Loss: 4159.7109\n",
            "Epoch [4/50], Step [300/469], Loss: 4396.6226\n",
            "Epoch [4/50], Step [400/469], Loss: 4445.0874\n",
            "Epoch [5/50], Step [100/469], Loss: 4208.6104\n",
            "Epoch [5/50], Step [200/469], Loss: 4169.9834\n",
            "Epoch [5/50], Step [300/469], Loss: 4391.2539\n",
            "Epoch [5/50], Step [400/469], Loss: 4122.5586\n",
            "Epoch [6/50], Step [100/469], Loss: 4066.9685\n",
            "Epoch [6/50], Step [200/469], Loss: 4103.4072\n",
            "Epoch [6/50], Step [300/469], Loss: 4077.6533\n",
            "Epoch [6/50], Step [400/469], Loss: 4201.6396\n",
            "Epoch [7/50], Step [100/469], Loss: 4077.0654\n",
            "Epoch [7/50], Step [200/469], Loss: 3950.6904\n",
            "Epoch [7/50], Step [300/469], Loss: 4002.7346\n",
            "Epoch [7/50], Step [400/469], Loss: 3883.0327\n",
            "Epoch [8/50], Step [100/469], Loss: 3958.7322\n",
            "Epoch [8/50], Step [200/469], Loss: 4065.6726\n",
            "Epoch [8/50], Step [300/469], Loss: 3841.9446\n",
            "Epoch [8/50], Step [400/469], Loss: 3915.5132\n",
            "Epoch [9/50], Step [100/469], Loss: 4231.0635\n",
            "Epoch [9/50], Step [200/469], Loss: 3930.6025\n",
            "Epoch [9/50], Step [300/469], Loss: 3900.7808\n",
            "Epoch [9/50], Step [400/469], Loss: 3894.9900\n",
            "Epoch [10/50], Step [100/469], Loss: 3823.2952\n",
            "Epoch [10/50], Step [200/469], Loss: 3941.5747\n",
            "Epoch [10/50], Step [300/469], Loss: 3918.4453\n",
            "Epoch [10/50], Step [400/469], Loss: 3787.9893\n",
            "Epoch [11/50], Step [100/469], Loss: 3930.8948\n",
            "Epoch [11/50], Step [200/469], Loss: 3862.5522\n",
            "Epoch [11/50], Step [300/469], Loss: 3889.2549\n",
            "Epoch [11/50], Step [400/469], Loss: 4000.4670\n",
            "Epoch [12/50], Step [100/469], Loss: 3863.7886\n",
            "Epoch [12/50], Step [200/469], Loss: 3702.8398\n",
            "Epoch [12/50], Step [300/469], Loss: 3743.8911\n",
            "Epoch [12/50], Step [400/469], Loss: 3869.4500\n",
            "Epoch [13/50], Step [100/469], Loss: 3702.8992\n",
            "Epoch [13/50], Step [200/469], Loss: 3994.7419\n",
            "Epoch [13/50], Step [300/469], Loss: 3831.2827\n",
            "Epoch [13/50], Step [400/469], Loss: 3772.0205\n",
            "Epoch [14/50], Step [100/469], Loss: 3970.4102\n",
            "Epoch [14/50], Step [200/469], Loss: 3912.4929\n",
            "Epoch [14/50], Step [300/469], Loss: 3736.1960\n",
            "Epoch [14/50], Step [400/469], Loss: 3929.2495\n",
            "Epoch [15/50], Step [100/469], Loss: 3829.0740\n",
            "Epoch [15/50], Step [200/469], Loss: 3771.0212\n",
            "Epoch [15/50], Step [300/469], Loss: 3799.4653\n",
            "Epoch [15/50], Step [400/469], Loss: 3734.2515\n",
            "Epoch [16/50], Step [100/469], Loss: 3874.6838\n",
            "Epoch [16/50], Step [200/469], Loss: 3805.4590\n",
            "Epoch [16/50], Step [300/469], Loss: 3741.1812\n",
            "Epoch [16/50], Step [400/469], Loss: 3692.9700\n",
            "Epoch [17/50], Step [100/469], Loss: 3670.8667\n",
            "Epoch [17/50], Step [200/469], Loss: 3631.4773\n",
            "Epoch [17/50], Step [300/469], Loss: 3765.3882\n",
            "Epoch [17/50], Step [400/469], Loss: 3723.8999\n",
            "Epoch [18/50], Step [100/469], Loss: 3821.0322\n",
            "Epoch [18/50], Step [200/469], Loss: 3581.0569\n",
            "Epoch [18/50], Step [300/469], Loss: 3679.8921\n",
            "Epoch [18/50], Step [400/469], Loss: 3713.5786\n",
            "Epoch [19/50], Step [100/469], Loss: 3807.7917\n",
            "Epoch [19/50], Step [200/469], Loss: 3631.6267\n",
            "Epoch [19/50], Step [300/469], Loss: 3721.7432\n",
            "Epoch [19/50], Step [400/469], Loss: 3688.3857\n",
            "Epoch [20/50], Step [100/469], Loss: 3544.9604\n",
            "Epoch [20/50], Step [200/469], Loss: 3882.9788\n",
            "Epoch [20/50], Step [300/469], Loss: 3680.9070\n",
            "Epoch [20/50], Step [400/469], Loss: 3689.8843\n",
            "Epoch [21/50], Step [100/469], Loss: 3661.6702\n",
            "Epoch [21/50], Step [200/469], Loss: 3762.1824\n",
            "Epoch [21/50], Step [300/469], Loss: 3989.9868\n",
            "Epoch [21/50], Step [400/469], Loss: 3720.8423\n",
            "Epoch [22/50], Step [100/469], Loss: 3580.7588\n",
            "Epoch [22/50], Step [200/469], Loss: 3639.6050\n",
            "Epoch [22/50], Step [300/469], Loss: 3680.7808\n",
            "Epoch [22/50], Step [400/469], Loss: 3784.8745\n",
            "Epoch [23/50], Step [100/469], Loss: 3801.0247\n",
            "Epoch [23/50], Step [200/469], Loss: 3646.4351\n",
            "Epoch [23/50], Step [300/469], Loss: 3740.5361\n",
            "Epoch [23/50], Step [400/469], Loss: 3687.6694\n",
            "Epoch [24/50], Step [100/469], Loss: 3752.0117\n",
            "Epoch [24/50], Step [200/469], Loss: 3774.1206\n",
            "Epoch [24/50], Step [300/469], Loss: 3500.4619\n",
            "Epoch [24/50], Step [400/469], Loss: 3707.9624\n"
          ]
        }
      ],
      "source": [
        "epochs_VAE = 50 #200\n",
        "total_step = len(train_loader)\n",
        "device = torch.device('cuda:0' if torch.cuda.is_available() else 'cpu')\n",
        "modelVAE = VAE().to(device)\n",
        "\n",
        "#for VAE\n",
        "adam_optimizer = torch.optim.Adam(modelVAE.parameters(), lr=0.001)\n",
        "\n",
        "for epoch in range(epochs_VAE):\n",
        "        i = 0\n",
        "        for image, _ in train_loader:\n",
        "            image = image.to(device)\n",
        "            # Forward pass\n",
        "            outputs, mu, log_var = modelVAE(image)\n",
        "\n",
        "            #VAE loss\n",
        "            loss = vae_loss(outputs, image, mu, log_var)\n",
        "            adam_optimizer.zero_grad()\n",
        "            loss.backward()\n",
        "            adam_optimizer.step()\n",
        "            i += 1\n",
        "            if (i+1) % 100 == 0:\n",
        "                print ('Epoch [{}/{}], Step [{}/{}], Loss: {:.4f}'\n",
        "                    .format(epoch+1, epochs_VAE, i+1, total_step, loss.item()))\n",
        "\n",
        "\n",
        "# with torch.no_grad():\n",
        "#   correct = 0\n",
        "#   total = 0\n",
        "#   for images, labels in test_loader:\n",
        "#       images = images.to(device)\n",
        "#       labels = labels.to(device)\n",
        "#       outputs = modelVAE(images)\n",
        "#       print(outputs)\n",
        "#       _, predicted = torch.max(outputs.data, 1)\n",
        "#       total += labels.size(0)\n",
        "#       correct += (predicted == labels).sum().item()\n",
        "\n",
        "#   print('Accuracy of the network: {} %'.format(100 * correct / total))\n"
      ]
    },
    {
      "cell_type": "code",
      "execution_count": null,
      "metadata": {
        "id": "Bq-UQt1H_-k-"
      },
      "outputs": [],
      "source": [
        "# Function to show images from tensor\n",
        "def save_images(title=None):\n",
        "    i = 0\n",
        "    for img, _ in train_loader:\n",
        "      if i == 100:\n",
        "        break\n",
        "      img = img.to(device)\n",
        "      img, _, _ = modelVAE(img)\n",
        "      torchvision.utils.save_image(img[0], \"/content/drive/MyDrive/VAE images/MNIST/\" + str(i) + \".jpg\", normalize=True)\n",
        "      i += 1"
      ]
    },
    {
      "cell_type": "code",
      "execution_count": null,
      "metadata": {
        "id": "sw8vwRExzfrh"
      },
      "outputs": [],
      "source": [
        "save_images()"
      ]
    },
    {
      "cell_type": "code",
      "execution_count": null,
      "metadata": {
        "id": "KlLYBwjVynaZ"
      },
      "outputs": [],
      "source": [
        "modelVAE_scripted = torch.jit.script(modelVAE) # Export to TorchScript\n",
        "modelVAE_scripted.save('/content/drive/MyDrive/VAE images/modelVAE_MNIST.pt') # Save"
      ]
    },
    {
      "cell_type": "code",
      "execution_count": null,
      "metadata": {
        "id": "55OyVm1Ud2Oa"
      },
      "outputs": [],
      "source": [
        "import matplotlib.pyplot as plt\n",
        "plt.ion()\n",
        "import torchvision.utils\n",
        "\n",
        "modelVAE.eval()\n",
        "\n",
        "# This function takes as an input the images to reconstruct\n",
        "# and the name of the model with which the reconstructions\n",
        "# are performed\n",
        "def to_img(x):\n",
        "    x = x.clamp(0, 1)\n",
        "    return x\n",
        "\n",
        "def show_image(img):\n",
        "    img = to_img(img)\n",
        "    npimg = img.numpy()\n",
        "    plt.imshow(np.transpose(npimg, (1, 2, 0)))\n",
        "\n",
        "def visualise_output(images, model):\n",
        "\n",
        "    with torch.no_grad():\n",
        "\n",
        "        images = images.to(device)\n",
        "        images, _, _ = model(images)\n",
        "        images = images.cpu()\n",
        "        images = to_img(images)\n",
        "        np_imagegrid = torchvision.utils.make_grid(images[1:50], 10, 5).numpy()\n",
        "        plt.imshow(np.transpose(np_imagegrid, (1, 2, 0)))\n",
        "        plt.show()\n",
        "\n",
        "images, labels = iter(train_loader).next()\n",
        "\n",
        "# First visualise the original images\n",
        "print('Original images')\n",
        "show_image(torchvision.utils.make_grid(images[1:50],10,5))\n",
        "plt.show()\n",
        "\n",
        "# Reconstruct and visualise the images using the vae\n",
        "print('\\nVAE reconstruction:')\n",
        "visualise_output(images, modelVAE)"
      ]
    },
    {
      "cell_type": "code",
      "execution_count": null,
      "metadata": {
        "id": "Rt6pd9haGNqc"
      },
      "outputs": [],
      "source": [
        "def comparison(in, out):\n",
        "  return psnr.psnr(in, out), ssim.ssim(in, out)\n",
        "\n",
        "def difference_images():\n",
        "  psnr_img = []\n",
        "  ssim_img = []\n",
        "  for image, _ in train_dataset:\n",
        "    image = image.to(device)\n",
        "    img, _, _ = modelVAE(image)\n",
        "    temp1, temp2 = comparison(image, img)\n",
        "    psnr_img.append(temp1)\n",
        "    ssim_img.append(temp2)"
      ]
    }
  ],
  "metadata": {
    "accelerator": "GPU",
    "colab": {
      "provenance": []
    },
    "kernelspec": {
      "display_name": "Python 3",
      "name": "python3"
    },
    "language_info": {
      "name": "python"
    }
  },
  "nbformat": 4,
  "nbformat_minor": 0
}